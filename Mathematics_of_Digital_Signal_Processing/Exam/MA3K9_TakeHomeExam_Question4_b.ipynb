{
 "cells": [
  {
   "cell_type": "code",
   "execution_count": 1,
   "id": "initial_id",
   "metadata": {
    "collapsed": true,
    "ExecuteTime": {
     "end_time": "2025-01-01T15:56:44.934600500Z",
     "start_time": "2025-01-01T15:56:44.813798300Z"
    }
   },
   "outputs": [
    {
     "name": "stdout",
     "output_type": "stream",
     "text": [
      "Delayed audio has been saved to y_signal_delayed.wav\n"
     ]
    }
   ],
   "source": [
    "#1\n",
    "\n",
    "import numpy as np\n",
    "import soundfile as sf\n",
    "\n",
    "#Read the original audio file\n",
    "x_signal, fs = sf.read('x_signal.wav')  # x_signal is the audio data, fs is the sampling rate\n",
    "\n",
    "#Create a delayed version by prepending 10,000 zeros\n",
    "delay_samples = 10000\n",
    "delayed_signal = np.concatenate((np.zeros(delay_samples), x_signal))\n",
    "\n",
    "#Write out the delayed signal to a new WAV file\n",
    "sf.write('y_signal_delayed.wav', delayed_signal, fs)\n",
    "\n",
    "print(f\"Delayed audio has been saved to y_signal_delayed.wav\")\n"
   ]
  },
  {
   "cell_type": "code",
   "outputs": [
    {
     "name": "stdout",
     "output_type": "stream",
     "text": [
      "Sampling rate: 44100 Hz\n",
      "Delay introduced: 226.76 ms\n"
     ]
    }
   ],
   "source": [
    "#2\n",
    "\n",
    "#Specify the introduced delay in samples\n",
    "delay_samples = 10000\n",
    "\n",
    "#Convert the delay to milliseconds\n",
    "delay_ms = (delay_samples / fs) * 1000\n",
    "\n",
    "print(f\"Sampling rate: {fs} Hz\")\n",
    "print(f\"Delay introduced: {delay_ms:.2f} ms\")"
   ],
   "metadata": {
    "collapsed": false,
    "ExecuteTime": {
     "end_time": "2025-01-01T15:56:44.935618800Z",
     "start_time": "2025-01-01T15:56:44.933439300Z"
    }
   },
   "id": "b6317d0f52da2f48",
   "execution_count": 2
  },
  {
   "cell_type": "code",
   "outputs": [
    {
     "name": "stdout",
     "output_type": "stream",
     "text": [
      "Cross-correlation between the two signals is computed.\n",
      "Cross-correlation array length: 209999\n",
      "Index of peak correlation: 109999\n"
     ]
    }
   ],
   "source": [
    "#3\n",
    "\n",
    "import numpy as np\n",
    "import soundfile as sf\n",
    "from scipy.signal import correlate\n",
    "\n",
    "# Read signals\n",
    "x, fs = sf.read('x_signal.wav')\n",
    "y, fs_y = sf.read('y_signal_delayed.wav')\n",
    "\n",
    "# Compute cross-correlation\n",
    "r_xy = correlate(y, x, mode='full')\n",
    "\n",
    "# Find the index of the maximum correlation\n",
    "delay_index = np.argmax(r_xy)  # location in the array where the peak occurs\n",
    "\n",
    "print('Cross-correlation between the two signals is computed.')\n",
    "print(\"Cross-correlation array length:\", len(r_xy))\n",
    "print(\"Index of peak correlation:\", delay_index)\n"
   ],
   "metadata": {
    "collapsed": false,
    "ExecuteTime": {
     "end_time": "2025-01-01T15:56:45.775851100Z",
     "start_time": "2025-01-01T15:56:44.937737Z"
    }
   },
   "id": "e8f34b5c9303a4de",
   "execution_count": 3
  },
  {
   "cell_type": "code",
   "outputs": [
    {
     "name": "stdout",
     "output_type": "stream",
     "text": [
      "Index of peak in cross-correlation: 109999\n",
      "Measured delay (samples): 10000\n",
      "Measured delay (ms): 226.76\n"
     ]
    }
   ],
   "source": [
    "#4\n",
    "\n",
    "# Both signals should be the same length if we just introduced zeros\n",
    "N = len(x)\n",
    "\n",
    "# Convert index to lag in samples\n",
    "lag_samples = delay_index - (N - 1)\n",
    "\n",
    "# Convert lag to time (ms)\n",
    "delay_ms = (lag_samples / fs) * 1000\n",
    "\n",
    "print(\"Index of peak in cross-correlation:\", delay_index)\n",
    "print(\"Measured delay (samples):\", lag_samples)\n",
    "print(f\"Measured delay (ms): {delay_ms:.2f}\")\n"
   ],
   "metadata": {
    "collapsed": false,
    "ExecuteTime": {
     "end_time": "2025-01-01T15:56:45.776890800Z",
     "start_time": "2025-01-01T15:56:45.772683400Z"
    }
   },
   "id": "d7625a30ccd475ae",
   "execution_count": 4
  },
  {
   "cell_type": "code",
   "outputs": [
    {
     "name": "stdout",
     "output_type": "stream",
     "text": [
      "Discussion: The delay computed from cross-correlation is consistent with the delay set in (1).\n"
     ]
    }
   ],
   "source": [
    "print('Discussion: The delay computed from cross-correlation is consistent with the delay set in (1).')"
   ],
   "metadata": {
    "collapsed": false,
    "ExecuteTime": {
     "end_time": "2025-01-01T15:56:45.783078600Z",
     "start_time": "2025-01-01T15:56:45.776943300Z"
    }
   },
   "id": "32cbd5314f9cc9b",
   "execution_count": 5
  }
 ],
 "metadata": {
  "kernelspec": {
   "display_name": "Python 3",
   "language": "python",
   "name": "python3"
  },
  "language_info": {
   "codemirror_mode": {
    "name": "ipython",
    "version": 2
   },
   "file_extension": ".py",
   "mimetype": "text/x-python",
   "name": "python",
   "nbconvert_exporter": "python",
   "pygments_lexer": "ipython2",
   "version": "2.7.6"
  }
 },
 "nbformat": 4,
 "nbformat_minor": 5
}
