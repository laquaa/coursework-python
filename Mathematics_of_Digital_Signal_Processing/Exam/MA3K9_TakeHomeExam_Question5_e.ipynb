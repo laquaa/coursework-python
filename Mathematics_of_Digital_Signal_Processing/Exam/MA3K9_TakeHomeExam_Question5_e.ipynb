{
 "cells": [
  {
   "cell_type": "code",
   "execution_count": 1,
   "id": "initial_id",
   "metadata": {
    "collapsed": true,
    "ExecuteTime": {
     "end_time": "2025-01-01T15:56:54.276694800Z",
     "start_time": "2025-01-01T15:56:54.173042600Z"
    }
   },
   "outputs": [
    {
     "name": "stdout",
     "output_type": "stream",
     "text": [
      "\n",
      "Input sequence x[n]: [ 1.+0.j -1.+0.j  2.+0.j -2.+0.j  1.+0.j  2.+0.j]\n",
      "\n",
      "DFT (matrix method):\n",
      "  X_matrix[0] = (3+0j)\n",
      "  X_matrix[1] = (1.9999999999999987+1.732050807568878j)\n",
      "  X_matrix[2] = (-3.000000000000003+3.4641016151377517j)\n",
      "  X_matrix[3] = (5-2.940390279226824e-15j)\n",
      "  X_matrix[4] = (-2.999999999999994-3.4641016151377606j)\n",
      "  X_matrix[5] = (2.0000000000000044-1.7320508075688739j)\n",
      "\n",
      "Hand-computed DFT (results in part (d)):\n",
      "  X_derived[0] = (3+0j)\n",
      "  X_derived[1] = (2+1.7320508075688772j)\n",
      "  X_derived[2] = (-3+3.4641016151377544j)\n",
      "  X_derived[3] = (5+0j)\n",
      "  X_derived[4] = (-3-3.4641016151377544j)\n",
      "  X_derived[5] = (2-1.7320508075688772j)\n"
     ]
    }
   ],
   "source": [
    "#e\n",
    "\n",
    "import numpy as np\n",
    "\n",
    "print(\"\")\n",
    "\n",
    "def dft_matrix(x):\n",
    "    \"\"\"\n",
    "    Compute the DFT of a 1D numpy array x using the NxN DFT matrix.\n",
    "    x can be real or complex; the output is complex.\n",
    "    \"\"\"\n",
    "    # Convert x to a numpy array of complex values (just to be safe)\n",
    "    x = np.asarray(x, dtype=complex)\n",
    "    N = x.size\n",
    "\n",
    "    # Create index arrays:\n",
    "    #   n = [0, 1, 2, ..., N-1]\n",
    "    #   k = the same, but reshaped as a column vector\n",
    "    n = np.arange(N)\n",
    "    k = n.reshape((N, 1))\n",
    "\n",
    "    # Construct the DFT matrix F_N, where F_N[k,n] = exp(-j 2π kn / N)\n",
    "    F_N = np.exp(-1j * 2 * np.pi * k * n / N)\n",
    "\n",
    "    # Multiply F_N by x (matrix-vector product)\n",
    "    X = F_N.dot(x)\n",
    "    return X\n",
    "\n",
    "# --------------------- TEST ON THE GIVEN SEQUENCE x[n] ---------------------\n",
    "# The given sequence\n",
    "x = np.array([1, -1, 2, -2, 1, 2], dtype=complex)\n",
    "\n",
    "# (1) DFT via the matrix method\n",
    "X_matrix = dft_matrix(x)\n",
    "\n",
    "# (2) Print both results\n",
    "print(\"Input sequence x[n]:\", x)\n",
    "print(\"\\nDFT (matrix method):\")\n",
    "for k, val in enumerate(X_matrix):\n",
    "    print(f\"  X_matrix[{k}] = {val}\")\n",
    "\n",
    "# (3) Compare with the hand-computed result (from the earlier derivation).\n",
    "#     The derived result was:\n",
    "#       X(0) =  3\n",
    "#       X(1) =  2 + j√3\n",
    "#       X(2) = -3 + j2√3\n",
    "#       X(3) =  5\n",
    "#       X(4) = -3 - j2√3\n",
    "#       X(5) =  2 - j√3\n",
    "#\n",
    "# We'll just print them here as a reference:\n",
    "X_derived = np.array([\n",
    "    3,\n",
    "    2 + 1j*np.sqrt(3),\n",
    "    -3 + 1j*2*np.sqrt(3),\n",
    "    5,\n",
    "    -3 - 1j*2*np.sqrt(3),\n",
    "    2 - 1j*np.sqrt(3)\n",
    "], dtype=complex)\n",
    "\n",
    "print(\"\\nHand-computed DFT (results in part (d)):\")\n",
    "for k, val in enumerate(X_derived):\n",
    "    print(f\"  X_derived[{k}] = {val}\")\n"
   ]
  },
  {
   "cell_type": "code",
   "outputs": [
    {
     "name": "stdout",
     "output_type": "stream",
     "text": [
      "The results obtained by the matrix method closely match that obtained from part (d).\n"
     ]
    }
   ],
   "source": [
    "print('The results obtained by the matrix method closely match that obtained from part (d).')"
   ],
   "metadata": {
    "collapsed": false,
    "ExecuteTime": {
     "end_time": "2025-01-01T15:56:54.280858900Z",
     "start_time": "2025-01-01T15:56:54.276147Z"
    }
   },
   "id": "7b89012115a6b2a7",
   "execution_count": 2
  }
 ],
 "metadata": {
  "kernelspec": {
   "display_name": "Python 3",
   "language": "python",
   "name": "python3"
  },
  "language_info": {
   "codemirror_mode": {
    "name": "ipython",
    "version": 2
   },
   "file_extension": ".py",
   "mimetype": "text/x-python",
   "name": "python",
   "nbconvert_exporter": "python",
   "pygments_lexer": "ipython2",
   "version": "2.7.6"
  }
 },
 "nbformat": 4,
 "nbformat_minor": 5
}
