{
 "cells": [
  {
   "cell_type": "code",
   "execution_count": 1,
   "id": "initial_id",
   "metadata": {
    "collapsed": true,
    "ExecuteTime": {
     "end_time": "2024-11-03T20:02:13.675836800Z",
     "start_time": "2024-11-03T20:02:13.672810100Z"
    }
   },
   "outputs": [],
   "source": [
    "# Letong Zhou / 2210365 / Mathematics(G100) / 3rd Year"
   ]
  },
  {
   "cell_type": "code",
   "outputs": [],
   "source": [
    "# 3 (d)\n",
    "\n",
    "import numpy as np\n",
    "from typing import List"
   ],
   "metadata": {
    "collapsed": false,
    "ExecuteTime": {
     "end_time": "2024-11-03T20:02:13.751161900Z",
     "start_time": "2024-11-03T20:02:13.679843800Z"
    }
   },
   "id": "45deb0a75ae5eb5",
   "execution_count": 2
  },
  {
   "cell_type": "code",
   "outputs": [],
   "source": [
    "def impulse_response_circular_convolution(x: List[int], h: List[int]) -> List[int]:\n",
    "    \"\"\"\n",
    "    Compute the circular convolution of two sequences x and h.\n",
    "    \"\"\"\n",
    "    N = len(x)\n",
    "    y = [0] * N  # Initialize output list of the same length as x and h\n",
    "    for n in range(N):\n",
    "        y[n] = sum(x[m] * h[(n - m) % N] for m in range(N))\n",
    "    return y"
   ],
   "metadata": {
    "collapsed": false,
    "ExecuteTime": {
     "end_time": "2024-11-03T20:02:13.757663900Z",
     "start_time": "2024-11-03T20:02:13.752161300Z"
    }
   },
   "id": "bd9210a9213bfdcb",
   "execution_count": 3
  },
  {
   "cell_type": "code",
   "outputs": [],
   "source": [
    "def impulse_response_dft(x: List[int], h: List[int]) -> List[int]:\n",
    "    \"\"\"\n",
    "    Compute the system response using the DFT method.\n",
    "    \"\"\"\n",
    "    N = len(x)\n",
    "    # Compute the DFT of x and h\n",
    "    X = np.fft.fft(x, N)\n",
    "    H = np.fft.fft(h, N)\n",
    "    \n",
    "    # Element-wise multiplication in the frequency domain\n",
    "    Y = X * H\n",
    "    \n",
    "    # Compute the inverse DFT to get the result in the time domain\n",
    "    y = np.fft.ifft(Y).real  # Use .real to avoid small imaginary parts due to numerical error\n",
    "    return list(np.round(y).astype(int))  # Round to nearest integer for consistency"
   ],
   "metadata": {
    "collapsed": false,
    "ExecuteTime": {
     "end_time": "2024-11-03T20:02:13.764774700Z",
     "start_time": "2024-11-03T20:02:13.756663100Z"
    }
   },
   "id": "6c360c2a4df2a4c3",
   "execution_count": 4
  },
  {
   "cell_type": "code",
   "outputs": [
    {
     "name": "stdout",
     "output_type": "stream",
     "text": [
      "The results are equivalent.\n"
     ]
    }
   ],
   "source": [
    "# Test for equivalence\n",
    "x = [2, 3, -1, 5]\n",
    "h = [1, 4, -2, -3]\n",
    "\n",
    "# Compute results from both methods\n",
    "y_circular_convolution = impulse_response_circular_convolution(x, h)\n",
    "y_dft = impulse_response_dft(x, h)\n",
    "\n",
    "# Check if the results are equivalent\n",
    "are_equivalent = y_circular_convolution == y_dft\n",
    "print(f\"The results are {'equivalent' if are_equivalent else 'not equivalent'}.\")"
   ],
   "metadata": {
    "collapsed": false,
    "ExecuteTime": {
     "end_time": "2024-11-03T20:02:13.772701500Z",
     "start_time": "2024-11-03T20:02:13.763774400Z"
    }
   },
   "id": "c205119c9568ddfb",
   "execution_count": 5
  },
  {
   "cell_type": "code",
   "outputs": [
    {
     "name": "stdout",
     "output_type": "stream",
     "text": [
      "Time-domain sequence: [4.0, 2.00002, 1.00002, 4.00001, 6.0, 2.99998, 4.99998, 1.99999]\n"
     ]
    }
   ],
   "source": [
    "# 4 (b)\n",
    "\n",
    "from typing import List\n",
    "\n",
    "def compute_ifft(X: List[complex]) -> List[float]:\n",
    "    \"\"\"\n",
    "    Compute the IFFT of a given sequence of DFT coefficients.\n",
    "    \n",
    "    Parameters:\n",
    "    X (List[complex]): The frequency-domain sequence (DFT coefficients).\n",
    "    \n",
    "    Returns:\n",
    "    List[float]: The time-domain sequence after applying IFFT.\n",
    "    \"\"\"\n",
    "    # Compute the IFFT\n",
    "    time_domain_sequence = np.fft.ifft(X)\n",
    "    \n",
    "    # Take the real part and round the result to avoid small imaginary parts due to numerical errors\n",
    "    return list(np.round(time_domain_sequence.real, decimals=5))\n",
    "\n",
    "# Given DFT coefficients with deduced values for a length-8 sequence\n",
    "X = [\n",
    "    27,\n",
    "    -4.1213 + 3.2928j,\n",
    "    4 + 1j,\n",
    "    0.1213 - 4.7071j,\n",
    "    5,\n",
    "    0.1213 + 4.7071j,\n",
    "    4 - 1j,\n",
    "    -4.1213 - 3.2928j\n",
    "]\n",
    "\n",
    "# Compute the IFFT\n",
    "time_domain_sequence = compute_ifft(X)\n",
    "print(\"Time-domain sequence:\", time_domain_sequence)\n"
   ],
   "metadata": {
    "collapsed": false,
    "ExecuteTime": {
     "end_time": "2024-11-03T20:02:13.792053700Z",
     "start_time": "2024-11-03T20:02:13.769086800Z"
    }
   },
   "id": "c13f6fa64bbab44d",
   "execution_count": 6
  }
 ],
 "metadata": {
  "kernelspec": {
   "display_name": "Python 3",
   "language": "python",
   "name": "python3"
  },
  "language_info": {
   "codemirror_mode": {
    "name": "ipython",
    "version": 2
   },
   "file_extension": ".py",
   "mimetype": "text/x-python",
   "name": "python",
   "nbconvert_exporter": "python",
   "pygments_lexer": "ipython2",
   "version": "2.7.6"
  }
 },
 "nbformat": 4,
 "nbformat_minor": 5
}
